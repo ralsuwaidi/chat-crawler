{
 "cells": [
  {
   "cell_type": "code",
   "execution_count": 2,
   "metadata": {},
   "outputs": [
    {
     "name": "stdout",
     "output_type": "stream",
     "text": [
      "HTTP Error 403: Forbidden\n",
      "HTTP Error 404: Not Found\n",
      "HTTP Error 404: Not Found\n",
      "HTTP Error 404: Not Found\n",
      "URL can't contain control characters. '/ https://aurak.ac.ae/en/academics/school-of-engineering/academic-programs/bs-computer-science' (found at least ' ')\n",
      "URL can't contain control characters. '/ https://engineering.aau.ac.ae/en/programs/bachelor-of-science-in-computer-science' (found at least ' ')\n",
      "URL can't contain control characters. '/ https://mbzuai.ac.ae/study/academic-programs/msc/computer-vision' (found at least ' ')\n",
      "HTTP Error 403: Forbidden\n",
      "HTTP Error 404: Not Found\n",
      "HTTP Error 404: Not Found\n",
      "HTTP Error 404: Not Found\n",
      "HTTP Error 404: Not Found\n"
     ]
    }
   ],
   "source": [
    "from gbot.gbot import GBot\n",
    "\n",
    "gbot = GBot('https://ai.gov.ae')\n",
    "gbot.crawl()\n"
   ]
  },
  {
   "cell_type": "code",
   "execution_count": 1,
   "metadata": {},
   "outputs": [
    {
     "name": "stderr",
     "output_type": "stream",
     "text": [
      "/Users/rashed/dev/aio/chatbot/chat-crawler/gbot/utils/utils.py:46: FutureWarning: The default value of regex will change from True to False in a future version.\n",
      "  serie = serie.str.replace(\"\\\\n\", \" \")\n"
     ]
    }
   ],
   "source": [
    "from gbot.gbot import GBot\n",
    "domain = 'ai.gov.ae'\n",
    "gbot = GBot(f'https://{domain}')\n",
    "gbot.to_embedding(f'text/{domain}/')\n"
   ]
  },
  {
   "cell_type": "code",
   "execution_count": 1,
   "metadata": {},
   "outputs": [
    {
     "name": "stdout",
     "output_type": "stream",
     "text": [
      "The pillars of the training programs include programs of technical and academic excellence, developing personal and professional skills, providing assessments and tests, and developing student capabilities and performance.\n",
      "['https://moe.gov.ae/En/Legislation/Documents/50-2021.pdf', 'https://moe.gov.ae/Ar/ImportantLinks/SiteAssets/OEHSMS.pdf', 'https://moe.gov.ae/Ar/ImportantLinks/Assessment/Documents/Curriculum-docs/الإطار%20العام%20لمعايير%20المناهج%202017%20الفنون%20البصرية.pdf']\n"
     ]
    }
   ],
   "source": [
    "from gbot.gbot import GBot\n",
    "\n",
    "gbot = GBot.from_embedding('processed/embeddings_moe.gov.ae.csv')\n",
    "\n",
    "answer, urls = gbot.answer('what is the training programs pillars')\n",
    "print(answer)\n",
    "print(urls)"
   ]
  },
  {
   "cell_type": "code",
   "execution_count": 2,
   "metadata": {},
   "outputs": [
    {
     "name": "stdout",
     "output_type": "stream",
     "text": [
      "The generative Artificial Intelligence market generated revenues of roughly $86.9 billion in 2022.\n",
      "['https://ai.gov.ae/wp-content/uploads/2023/04/406.-Generative-AI-Guide_ver1-EN.pdf', 'https://ai.gov.ae/wp-content/uploads/2021/07/UAE-National-Strategy-for-Artificial-Intelligence-2031.pdf', 'https://ai.gov.ae/strategy/#objective6']\n"
     ]
    }
   ],
   "source": [
    "from gbot.gbot import GBot\n",
    "domain = 'ai.gov.ae'\n",
    "gbot = GBot.from_embedding(f'processed/embeddings_{domain}.csv')\n",
    "\n",
    "answer, urls = gbot.answer('how much did the artificial intelligence market generate in revenues in 2022')\n",
    "print(answer)\n",
    "print(urls)"
   ]
  },
  {
   "cell_type": "code",
   "execution_count": 1,
   "metadata": {},
   "outputs": [
    {
     "name": "stdout",
     "output_type": "stream",
     "text": [
      "The generative Artificial Intelligence market generated revenues of roughly $86.9 billion in 2022.\n",
      "['https://ai.gov.ae/wp-content/uploads/2023/04/406.-Generative-AI-Guide_ver1-EN.pdf', 'https://ai.gov.ae/wp-content/uploads/2021/07/UAE-National-Strategy-for-Artificial-Intelligence-2031.pdf', 'https://ai.gov.ae/strategy/#objective2']\n"
     ]
    }
   ],
   "source": [
    "from gbot.gbot import GBot\n",
    "\n",
    "gbot_ai = GBot.from_embedding('processed/embeddings_ai.gov.ae.csv')\n",
    "\n",
    "answer, urls = gbot_ai.answer('how much did the artificial intelligence market generate in revenues in 2022')\n",
    "print(answer)\n",
    "print(urls)"
   ]
  }
 ],
 "metadata": {
  "kernelspec": {
   "display_name": "venv",
   "language": "python",
   "name": "python3"
  },
  "language_info": {
   "codemirror_mode": {
    "name": "ipython",
    "version": 3
   },
   "file_extension": ".py",
   "mimetype": "text/x-python",
   "name": "python",
   "nbconvert_exporter": "python",
   "pygments_lexer": "ipython3",
   "version": "3.10.10"
  },
  "orig_nbformat": 4
 },
 "nbformat": 4,
 "nbformat_minor": 2
}
