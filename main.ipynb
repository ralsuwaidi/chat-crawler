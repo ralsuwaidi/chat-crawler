{
 "cells": [
  {
   "cell_type": "code",
   "execution_count": 1,
   "metadata": {},
   "outputs": [],
   "source": [
    "from gbot.gbot import GBot\n",
    "\n",
    "gbot = GBot('https://mof.gov.ae')\n",
    "# crawls over every link and pdf\n",
    "# saves the output into text/{domain}\n",
    "gbot.crawl()\n",
    "\n",
    "# 18 minutes to scan all of mof site"
   ]
  },
  {
   "cell_type": "code",
   "execution_count": null,
   "metadata": {},
   "outputs": [],
   "source": [
    "# Use openai embeddings to convert text into embeddings\n",
    "# the embeddings file will be saved to processed/embeddings_{domain}.csv\n",
    "\n",
    "from gbot.gbot import GBot\n",
    "domain = 'mof.gov.ae'\n",
    "gbot = GBot(f'https://{domain}')\n",
    "gbot.to_embedding(f'text/{domain}/')\n",
    "\n",
    "# 8 minutes to convert text into embeddings"
   ]
  },
  {
   "cell_type": "code",
   "execution_count": 1,
   "metadata": {},
   "outputs": [
    {
     "name": "stdout",
     "output_type": "stream",
     "text": [
      "The pillars of the training programs include programs of technical and academic excellence, developing personal and professional skills, providing assessments and tests, and developing student capabilities and performance.\n",
      "https://moe.gov.ae/En/Legislation/Documents/50-2021.pdf\n"
     ]
    }
   ],
   "source": [
    "# Use embeddings to answer questions\n",
    "# give links that are closest to the answer\n",
    "\n",
    "from gbot.gbot import GBot\n",
    "\n",
    "gbot = GBot.from_embedding('processed/embeddings_moe.gov.ae.csv')\n",
    "\n",
    "answer, urls = gbot.answer('what is the training programs pillars')\n",
    "print(answer)\n",
    "print(urls[0])"
   ]
  },
  {
   "cell_type": "code",
   "execution_count": 14,
   "metadata": {},
   "outputs": [
    {
     "name": "stdout",
     "output_type": "stream",
     "text": [
      "دليل الإجراءات هو وثيقة قابلة للتغيير والتطوير ينبغي مراجعتها بشكل دوري من أجل ضمان توافقها مع أهداف الحكومة الإتحادية، وقد صممت الإجراءات الموض\n",
      "https://mof.gov.ae/wp-content/uploads/2023/04/دليل-اجراءات-المشتريات-الرقمية-للحكومة-الإتحادية-2023.pdf\n"
     ]
    }
   ],
   "source": [
    "# example answer from a PDF in arabic\n",
    "\n",
    "gbot = GBot.from_embedding('processed/embeddings_mof.gov.ae.csv')\n",
    "\n",
    "answer, urls = gbot.answer(' ما هو دليل الإجراءات ')\n",
    "print(answer)\n",
    "print(urls[0])"
   ]
  },
  {
   "cell_type": "code",
   "execution_count": 15,
   "metadata": {},
   "outputs": [
    {
     "name": "stdout",
     "output_type": "stream",
     "text": [
      "The customer can access the service through the Ministry of Finance portal https://www.mof.gov.ae, by selecting the Government electronic services option as shown below. After selecting the service customer can view the service card as shown below. After successfully landing to service, the customer will reach the start page as shown in the image below.\n",
      "https://mof.gov.ae/wp-content/uploads/2022/08/70-modify-reports-on-tableau-data-lake-page-eng.pdf\n"
     ]
    }
   ],
   "source": [
    "# example answer in english from PDF\n",
    "\n",
    "answer, urls = gbot.answer('how to Applying to create reports in the smart reporting')\n",
    "print(answer)\n",
    "print(urls[0])"
   ]
  },
  {
   "cell_type": "code",
   "execution_count": 16,
   "metadata": {},
   "outputs": [
    {
     "name": "stdout",
     "output_type": "stream",
     "text": [
      "تكون لجنة المشتريات مسؤولة عن تشكيل اللجنة وتنسيق اجتماعاتها، ودعوة األعضاء لحضور املناقشات وتدوين محاضر املناقشات وتوثيقها، وتحديد موعد إتال\n",
      "https://mof.gov.ae/wp-content/uploads/2023/04/دليل-اجراءات-المشتريات-الرقمية-للحكومة-الإتحادية-2023.pdf\n"
     ]
    }
   ],
   "source": [
    "# arabic answers not as good by default \n",
    "\n",
    "answer, urls = gbot.answer('ما هو المسؤوليات لأعضاء لجنة المشتريات ')\n",
    "print(answer)\n",
    "print(urls[0])"
   ]
  }
 ],
 "metadata": {
  "kernelspec": {
   "display_name": "venv",
   "language": "python",
   "name": "python3"
  },
  "language_info": {
   "codemirror_mode": {
    "name": "ipython",
    "version": 3
   },
   "file_extension": ".py",
   "mimetype": "text/x-python",
   "name": "python",
   "nbconvert_exporter": "python",
   "pygments_lexer": "ipython3",
   "version": "3.11.3"
  },
  "orig_nbformat": 4
 },
 "nbformat": 4,
 "nbformat_minor": 2
}
